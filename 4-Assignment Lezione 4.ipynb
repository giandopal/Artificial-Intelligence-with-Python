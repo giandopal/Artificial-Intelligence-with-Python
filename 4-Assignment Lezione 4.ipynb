{
 "cells": [
  {
   "cell_type": "markdown",
   "id": "8c4a2572",
   "metadata": {},
   "source": [
    "#### 1. Create a null vector of size 10 but the fifth value which is 1 (★☆☆)"
   ]
  },
  {
   "cell_type": "markdown",
   "id": "1c549337",
   "metadata": {},
   "source": [
    "#### 2. Create a 2d array with 1 on the border and 0 inside (★☆☆)"
   ]
  },
  {
   "cell_type": "markdown",
   "id": "0c59bdd5",
   "metadata": {},
   "source": [
    "#### 3. Multiply a 5x3 matrix by a 3x2 matrix (real matrix product) (★☆☆)"
   ]
  },
  {
   "cell_type": "code",
   "execution_count": null,
   "id": "6919c3ce",
   "metadata": {},
   "outputs": [],
   "source": []
  },
  {
   "cell_type": "markdown",
   "id": "47385d20",
   "metadata": {},
   "source": []
  },
  {
   "cell_type": "markdown",
   "id": "ca21227c",
   "metadata": {},
   "source": []
  },
  {
   "cell_type": "markdown",
   "id": "277256ac",
   "metadata": {},
   "source": []
  },
  {
   "cell_type": "markdown",
   "id": "cf5eb572",
   "metadata": {},
   "source": []
  },
  {
   "cell_type": "markdown",
   "id": "c16ebc4a",
   "metadata": {},
   "source": []
  }
 ],
 "metadata": {
  "hide_input": false,
  "kernelspec": {
   "display_name": "Python 3 (ipykernel)",
   "language": "python",
   "name": "python3"
  },
  "language_info": {
   "codemirror_mode": {
    "name": "ipython",
    "version": 3
   },
   "file_extension": ".py",
   "mimetype": "text/x-python",
   "name": "python",
   "nbconvert_exporter": "python",
   "pygments_lexer": "ipython3",
   "version": "3.9.12"
  },
  "varInspector": {
   "cols": {
    "lenName": 16,
    "lenType": 16,
    "lenVar": 40
   },
   "kernels_config": {
    "python": {
     "delete_cmd_postfix": "",
     "delete_cmd_prefix": "del ",
     "library": "var_list.py",
     "varRefreshCmd": "print(var_dic_list())"
    },
    "r": {
     "delete_cmd_postfix": ") ",
     "delete_cmd_prefix": "rm(",
     "library": "var_list.r",
     "varRefreshCmd": "cat(var_dic_list()) "
    }
   },
   "types_to_exclude": [
    "module",
    "function",
    "builtin_function_or_method",
    "instance",
    "_Feature"
   ],
   "window_display": false
  }
 },
 "nbformat": 4,
 "nbformat_minor": 5
}
