{
 "cells": [
  {
   "cell_type": "markdown",
   "id": "c0f15e63",
   "metadata": {},
   "source": [
    "1. Scrivi una funzione che data una lista di numeri interi, conta quanti elementi della lista sono compresi (in senso stretto) in un intervallo specificato\n",
    "(in senso stretto significa che se il numero è uguale all'estremo dell'intervallo allora non deve essere conteggiato)\n",
    "\n",
    "Esempio \n",
    "\n",
    "inserisci lista: [10,20...99]\n",
    "\n",
    "specifica estremo sx intervallo: 40\n",
    "\n",
    "specifica estremo dx intervallo: 100\n",
    "\n",
    "<img src=\"fig/rangelist.png\">\n",
    "\n",
    "Soluzione consultabile sul sito\n",
    "\n",
    "https://www.w3resource.com/python-exercises/list/python-data-type-list-exercise-31.php\n"
   ]
  },
  {
   "cell_type": "markdown",
   "id": "63c0cdf3",
   "metadata": {},
   "source": [
    "2. Scrivi un programma Python che estrae l'elenco di parole più lunghe di n da un dato elenco di parole. \n",
    "\n",
    "<img src=\"fig/listofwords.png\">\n",
    "\n",
    "Soluzione consultabile sul sito\n",
    "\n",
    "https://www.w3resource.com/python-exercises/list/python-data-type-list-exercise-10.php"
   ]
  },
  {
   "cell_type": "code",
   "execution_count": null,
   "id": "0d37ba61",
   "metadata": {},
   "outputs": [],
   "source": []
  },
  {
   "cell_type": "markdown",
   "id": "5479a2a8",
   "metadata": {},
   "source": [
    "3. Scrivi un programma che semplifica una lista di liste (tecnicamente si dice \"to flat a list\").\n",
    "\n",
    "Per esempio se abbiamo una lista di liste [[1,2,3,4],[7,8,9,0],[7,4,5,6,3]] \n",
    "\n",
    "fare il \"flatting\" della lista significa creare un'unica lista con gli stessi elementi \n",
    "\n",
    "[1,2,3,4,7,8,9,0,7,4,5,6,3]\n",
    "\n",
    "<img src=\"fig/flattenlist.png\">\n",
    "\n",
    "Soluzione consultabile sul sito\n",
    "\n",
    "https://www.w3resource.com/python-exercises/list/python-data-type-list-exercise-23.php"
   ]
  },
  {
   "cell_type": "markdown",
   "id": "02b3219c",
   "metadata": {},
   "source": [
    "4. Scrivi una funzione che estrae i numeri pari da una lista\n",
    "\n",
    "Soluzione consultabile sul sito\n",
    "\n",
    "https://www.w3resource.com/python-exercises/python-functions-exercise-10.php\n"
   ]
  },
  {
   "cell_type": "code",
   "execution_count": null,
   "id": "d3bbd23b",
   "metadata": {},
   "outputs": [],
   "source": []
  }
 ],
 "metadata": {
  "hide_input": false,
  "kernelspec": {
   "display_name": "Python 3 (ipykernel)",
   "language": "python",
   "name": "python3"
  },
  "language_info": {
   "codemirror_mode": {
    "name": "ipython",
    "version": 3
   },
   "file_extension": ".py",
   "mimetype": "text/x-python",
   "name": "python",
   "nbconvert_exporter": "python",
   "pygments_lexer": "ipython3",
   "version": "3.9.12"
  },
  "varInspector": {
   "cols": {
    "lenName": 16,
    "lenType": 16,
    "lenVar": 40
   },
   "kernels_config": {
    "python": {
     "delete_cmd_postfix": "",
     "delete_cmd_prefix": "del ",
     "library": "var_list.py",
     "varRefreshCmd": "print(var_dic_list())"
    },
    "r": {
     "delete_cmd_postfix": ") ",
     "delete_cmd_prefix": "rm(",
     "library": "var_list.r",
     "varRefreshCmd": "cat(var_dic_list()) "
    }
   },
   "types_to_exclude": [
    "module",
    "function",
    "builtin_function_or_method",
    "instance",
    "_Feature"
   ],
   "window_display": false
  }
 },
 "nbformat": 4,
 "nbformat_minor": 5
}
