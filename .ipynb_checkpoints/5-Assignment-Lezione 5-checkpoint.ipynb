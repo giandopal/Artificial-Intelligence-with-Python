{
 "cells": [
  {
   "cell_type": "markdown",
   "id": "4da6850c",
   "metadata": {},
   "source": [
    "Svolgi i seguenti esercizi utilizzando il dataset earthquakes.csv utilizzato in classe\n",
    "- Estrai dalla tabella le righe che vanno da 2000 a 2023 \n",
    "- Estrai tutte le righe dalla colonna 6a alla fine\n",
    "- estra tutte le informazioni corrispondenti agli anni 2020,2021 e 2022\n",
    "- Crea una sottotabella composta dalle colonne 'Longitude' e 'Latitude'\n",
    "- Calcola quanti morti ci sono stati in afghanistan tra il 1950 e il 2000\n",
    "- Determina le tre nazioni che hanno avuto più decessi tra gli anni 2015 e 2020\n",
    "- Determina in quale area geografica (identificata per long. e latitudine) ci sono stati più terremoti.\n",
    "- Plotta un grafico in cui sulle ascisse ci sono gli anni e sull'ordinata il numero d morti in Italia. Dal 1980 al 2023\n",
    "\n"
   ]
  },
  {
   "cell_type": "code",
   "execution_count": null,
   "id": "d65da53a",
   "metadata": {},
   "outputs": [],
   "source": []
  },
  {
   "cell_type": "code",
   "execution_count": null,
   "id": "edc99623",
   "metadata": {},
   "outputs": [],
   "source": []
  }
 ],
 "metadata": {
  "hide_input": false,
  "kernelspec": {
   "display_name": "Python 3 (ipykernel)",
   "language": "python",
   "name": "python3"
  },
  "language_info": {
   "codemirror_mode": {
    "name": "ipython",
    "version": 3
   },
   "file_extension": ".py",
   "mimetype": "text/x-python",
   "name": "python",
   "nbconvert_exporter": "python",
   "pygments_lexer": "ipython3",
   "version": "3.9.12"
  },
  "varInspector": {
   "cols": {
    "lenName": 16,
    "lenType": 16,
    "lenVar": 40
   },
   "kernels_config": {
    "python": {
     "delete_cmd_postfix": "",
     "delete_cmd_prefix": "del ",
     "library": "var_list.py",
     "varRefreshCmd": "print(var_dic_list())"
    },
    "r": {
     "delete_cmd_postfix": ") ",
     "delete_cmd_prefix": "rm(",
     "library": "var_list.r",
     "varRefreshCmd": "cat(var_dic_list()) "
    }
   },
   "types_to_exclude": [
    "module",
    "function",
    "builtin_function_or_method",
    "instance",
    "_Feature"
   ],
   "window_display": false
  }
 },
 "nbformat": 4,
 "nbformat_minor": 5
}
