{
 "cells": [
  {
   "cell_type": "markdown",
   "id": "067e2f22",
   "metadata": {},
   "source": [
    "#### 1. Create a null vector of size 10 but the fifth value which is 1 (★☆☆)"
   ]
  },
  {
   "cell_type": "markdown",
   "id": "1fdce0fa",
   "metadata": {},
   "source": [
    "#### 2. Create a 2d array with 1 on the border and 0 inside (★☆☆)"
   ]
  },
  {
   "cell_type": "markdown",
   "id": "a1ed934f",
   "metadata": {},
   "source": [
    "#### 24. Multiply a 5x3 matrix by a 3x2 matrix (real matrix product) (★☆☆)"
   ]
  },
  {
   "cell_type": "markdown",
   "id": "1b23a8db",
   "metadata": {},
   "source": []
  },
  {
   "cell_type": "markdown",
   "id": "d47c3221",
   "metadata": {},
   "source": []
  },
  {
   "cell_type": "markdown",
   "id": "f5d0bf39",
   "metadata": {},
   "source": []
  },
  {
   "cell_type": "markdown",
   "id": "19ace7f0",
   "metadata": {},
   "source": []
  },
  {
   "cell_type": "markdown",
   "id": "d6db37ac",
   "metadata": {},
   "source": []
  }
 ],
 "metadata": {
  "hide_input": false,
  "kernelspec": {
   "display_name": "Python 3 (ipykernel)",
   "language": "python",
   "name": "python3"
  },
  "language_info": {
   "codemirror_mode": {
    "name": "ipython",
    "version": 3
   },
   "file_extension": ".py",
   "mimetype": "text/x-python",
   "name": "python",
   "nbconvert_exporter": "python",
   "pygments_lexer": "ipython3",
   "version": "3.9.12"
  },
  "varInspector": {
   "cols": {
    "lenName": 16,
    "lenType": 16,
    "lenVar": 40
   },
   "kernels_config": {
    "python": {
     "delete_cmd_postfix": "",
     "delete_cmd_prefix": "del ",
     "library": "var_list.py",
     "varRefreshCmd": "print(var_dic_list())"
    },
    "r": {
     "delete_cmd_postfix": ") ",
     "delete_cmd_prefix": "rm(",
     "library": "var_list.r",
     "varRefreshCmd": "cat(var_dic_list()) "
    }
   },
   "types_to_exclude": [
    "module",
    "function",
    "builtin_function_or_method",
    "instance",
    "_Feature"
   ],
   "window_display": false
  }
 },
 "nbformat": 4,
 "nbformat_minor": 5
}
