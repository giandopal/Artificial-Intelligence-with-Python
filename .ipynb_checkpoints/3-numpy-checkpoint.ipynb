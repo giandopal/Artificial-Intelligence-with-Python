{
 "cells": [
  {
   "cell_type": "markdown",
   "id": "6f696b6e",
   "metadata": {},
   "source": [
    "   # QUICK RECAP\n",
    "   \n",
    "    Nella scorsa lezione abbiamo visto:\n",
    "    - come richiamare l'help dei comandi\n",
    "    - l'Istruzione condizionale IF - ELIF - ELSE\n",
    "    . l'istruzione che genera i loop: FOR \n",
    "    - come utilizzare le istruzioni condizionali e il for per risolvere alcuni problemi\n",
    "    - come un oggetto python è associato ad una variabile (puntatore) e cosa sono i METODI associati all'oggetto, utilizzabili con la sintassi **variabile.metodo**\n",
    "    "
   ]
  },
  {
   "cell_type": "markdown",
   "id": "c05eaa6f",
   "metadata": {},
   "source": [
    "# vediamo un esempio pratico: \n",
    "\n",
    "Estraggo tutti i numeri primi in una lista di n elementi e li conservo in un contenitori\n",
    "\n",
    "ALGORITMO da utilizzare:\n",
    " - creo una lista di n elementi (es da 0 a 99)\n",
    " - creo una lista vuota dove conservare i numeri primi\n",
    " - ciclo su tutti gli elementi della lista\n",
    "    - se il numero estratto è un numeri primo\n",
    "        - aggiungo il numero nel contenitore\n",
    "        \n",
    "        \n",
    "Come rappresento l'algoritmo?\n",
    "# Diagramma di flusso\n",
    "        \n",
    "<img src=\"fig/flusso1.png\">\n",
    "\n",
    "    "
   ]
  },
  {
   "cell_type": "markdown",
   "id": "5967b8e9",
   "metadata": {},
   "source": [
    "## CREIAMO IL CODICE"
   ]
  },
  {
   "cell_type": "code",
   "execution_count": null,
   "id": "3a8be699",
   "metadata": {},
   "outputs": [],
   "source": []
  },
  {
   "cell_type": "code",
   "execution_count": null,
   "id": "b4cd3a5b",
   "metadata": {},
   "outputs": [],
   "source": []
  },
  {
   "cell_type": "code",
   "execution_count": null,
   "id": "47a324e6",
   "metadata": {},
   "outputs": [],
   "source": []
  },
  {
   "cell_type": "code",
   "execution_count": 33,
   "id": "51806300",
   "metadata": {},
   "outputs": [],
   "source": [
    "# creiamo una lista di 100 numeri da 0 a 99\n",
    "a= list(range(0,100)) \n",
    "\n",
    "# creaiamo contenitore VUOTO per numeri primi\n",
    "listanumeriprimi=[]"
   ]
  },
  {
   "cell_type": "code",
   "execution_count": 34,
   "id": "70bce3f1",
   "metadata": {},
   "outputs": [],
   "source": [
    "for i in a:\n",
    "    if (checknumeroprimo(i)):\n",
    "        listanumeriprimi.append(i)"
   ]
  },
  {
   "cell_type": "code",
   "execution_count": 39,
   "id": "e6da189f",
   "metadata": {},
   "outputs": [],
   "source": [
    "def checknumeroprimo(n):\n",
    "    # la funzione restituisce TRUE se il numero è primo\n",
    "    flag = True # supponiamo di default che il numero sia primo\n",
    "    if n <= 1:\n",
    "        flag=False\n",
    "    else:\n",
    "        for i in range(2, n):\n",
    "            if (n % i) == 0: # se il numero è divisibile allora non è primo\n",
    "                flag = False\n",
    "                break # usciamo dal FOR non ha più senso andare avanti\n",
    "    return flag "
   ]
  },
  {
   "cell_type": "code",
   "execution_count": 32,
   "id": "b5d44449",
   "metadata": {
    "hide_input": false
   },
   "outputs": [
    {
     "name": "stdout",
     "output_type": "stream",
     "text": [
      "False\n"
     ]
    }
   ],
   "source": [
    "print(checknumeroprimo(16))"
   ]
  },
  {
   "cell_type": "code",
   "execution_count": 40,
   "id": "c5a643b7",
   "metadata": {},
   "outputs": [
    {
     "data": {
      "text/plain": [
       "[2,\n",
       " 3,\n",
       " 5,\n",
       " 7,\n",
       " 11,\n",
       " 13,\n",
       " 17,\n",
       " 19,\n",
       " 23,\n",
       " 29,\n",
       " 31,\n",
       " 37,\n",
       " 41,\n",
       " 43,\n",
       " 47,\n",
       " 53,\n",
       " 59,\n",
       " 61,\n",
       " 67,\n",
       " 71,\n",
       " 73,\n",
       " 79,\n",
       " 83,\n",
       " 89,\n",
       " 97]"
      ]
     },
     "execution_count": 40,
     "metadata": {},
     "output_type": "execute_result"
    }
   ],
   "source": [
    "listanumeriprimi"
   ]
  },
  {
   "cell_type": "markdown",
   "id": "919a92e7",
   "metadata": {},
   "source": [
    "# UN ALTRO ESEMPIO\n",
    "Proviamo con le stringhe. Importiamo in una lista alcune righe di testo.\n",
    "Scopo dell'esercizio e verificare quante volte una data parola compare nel testo."
   ]
  },
  {
   "cell_type": "code",
   "execution_count": 63,
   "id": "bebeaa8c",
   "metadata": {},
   "outputs": [],
   "source": [
    "libro = [\"Secondo lo storico Harold Innis dal tredicesimo secolo l'avvento delle Università richiese una produzione maggiore di libri di testo, che comportò un declino graduale della pratica della\",\n",
    "        \"discussione dialettica in classe, caratteristica delle culture precedenti con il crescere dell'autorità dei libri di testo\",\n",
    "        \"Il libro di testo è considerato il punto ideale di incontro tra docente e studente, un canale di comunicazione didattico privilegiato.\",\n",
    "        \"I libri di testo si devono integrare e arricchire con altri strumenti didattici, quali enciclopedie, fonti, manuali, appunti, etc.\",\n",
    "        \"Anche gli antichi Greci scrissero testi destinati alla didattica, ma il libro di testo moderno ha le sue radici nella standardizzazione resa possibile dalla stampa a caratteri mobili. Lo stesso\",\n",
    "        \"Johannes Gutenberg che l'ha inventata ha stampato alcune edizioni dell'Ars Minor, un libro di grammatica latina di Elio Donato. I primi libri di testo sono stati utilizzati sia dai docenti, che\",\n",
    "        \"usavano i libri come ausili didattici (per esempio, abecedari), quanto da quelle persone che studiavano da sole. Riguardo invece alla resistenza ai cambiamenti e alle innovazioni in questo\",\n",
    "        \"campo, già il filosofo greco Socrate lamentava la perdita di conoscenza causata dal cambiamento dei metodi di insegnamento. Infatti prima dell'invenzione dell'alfabeto greco, 2.500 anni fa, le\",\n",
    "        \"conoscenze e le storie venivano imparate a memoria e recitate a voce alta, come si dice facesse Omero con i suoi poemi. L'avvento della scrittura significava che non era più necessario\",\n",
    "        \"memorizzare tutto, uno sviluppo temuto da Socrate, che pensava che in questo modo si sarebbe indebolita nei Greci la capacità mentale di ricordare e raccontare. Paradossalmente conosciamo\",\n",
    "        \"queste idee di Socrate e la sua filosofia, solo perché sono state riportate dal suo allievo Platone che le ha scritte nei suoi dialoghi.\"]"
   ]
  },
  {
   "cell_type": "code",
   "execution_count": 64,
   "id": "316c9c2d",
   "metadata": {},
   "outputs": [
    {
     "data": {
      "text/plain": [
       "[\"Secondo lo storico Harold Innis dal tredicesimo secolo l'avvento delle Università richiese una produzione maggiore di libri di testo, che comportò un declino graduale della pratica della\",\n",
       " \"discussione dialettica in classe, caratteristica delle culture precedenti con il crescere dell'autorità dei libri di testo\",\n",
       " 'Il libro di testo è considerato il punto ideale di incontro tra docente e studente, un canale di comunicazione didattico privilegiato.',\n",
       " 'I libri di testo si devono integrare e arricchire con altri strumenti didattici, quali enciclopedie, fonti, manuali, appunti, etc.',\n",
       " 'Anche gli antichi Greci scrissero testi destinati alla didattica, ma il libro di testo moderno ha le sue radici nella standardizzazione resa possibile dalla stampa a caratteri mobili. Lo stesso',\n",
       " \"Johannes Gutenberg che l'ha inventata ha stampato alcune edizioni dell'Ars Minor, un libro di grammatica latina di Elio Donato. I primi libri di testo sono stati utilizzati sia dai docenti, che\",\n",
       " 'usavano i libri come ausili didattici (per esempio, abecedari), quanto da quelle persone che studiavano da sole. Riguardo invece alla resistenza ai cambiamenti e alle innovazioni in questo',\n",
       " \"campo, già il filosofo greco Socrate lamentava la perdita di conoscenza causata dal cambiamento dei metodi di insegnamento. Infatti prima dell'invenzione dell'alfabeto greco, 2.500 anni fa, le\",\n",
       " \"conoscenze e le storie venivano imparate a memoria e recitate a voce alta, come si dice facesse Omero con i suoi poemi. L'avvento della scrittura significava che non era più necessario\",\n",
       " 'memorizzare tutto, uno sviluppo temuto da Socrate, che pensava che in questo modo si sarebbe indebolita nei Greci la capacità mentale di ricordare e raccontare. Paradossalmente conosciamo',\n",
       " 'queste idee di Socrate e la sua filosofia, solo perché sono state riportate dal suo allievo Platone che le ha scritte nei suoi dialoghi.']"
      ]
     },
     "execution_count": 64,
     "metadata": {},
     "output_type": "execute_result"
    }
   ],
   "source": [
    "libro"
   ]
  },
  {
   "cell_type": "markdown",
   "id": "2011abf9",
   "metadata": {},
   "source": [
    "# ALGORITMO:\n",
    "Creo un ciclo nella lista e verifico se in ogni riga è presente la parola data\n",
    "\n",
    "N.B. \n",
    "- Per verificare se una sequenza di caratteri è in una data stringa uso l'istruzione **IN**\n",
    "- per estrarre le parole da una frase uso il metodo **SPLIT**"
   ]
  },
  {
   "cell_type": "code",
   "execution_count": 59,
   "id": "aa5d4f7e",
   "metadata": {},
   "outputs": [
    {
     "data": {
      "text/plain": [
       "True"
      ]
     },
     "execution_count": 59,
     "metadata": {},
     "output_type": "execute_result"
    }
   ],
   "source": [
    "# esempio funzione in\n",
    "a = \"questo è il corso di Python\"\n",
    "\"corso\" in a"
   ]
  },
  {
   "cell_type": "code",
   "execution_count": 62,
   "id": "84b79c15",
   "metadata": {},
   "outputs": [
    {
     "data": {
      "text/plain": [
       "['questo', 'è', 'il', 'corso', 'di', 'Python']"
      ]
     },
     "execution_count": 62,
     "metadata": {},
     "output_type": "execute_result"
    }
   ],
   "source": [
    "# esempio funzione SPLIT\n",
    "tokens = a.split()\n",
    "tokens"
   ]
  },
  {
   "cell_type": "code",
   "execution_count": 68,
   "id": "d9ff0d2a",
   "metadata": {},
   "outputs": [
    {
     "name": "stdout",
     "output_type": "stream",
     "text": [
      "Parola presente alla riga 8\n"
     ]
    }
   ],
   "source": [
    "# creo programma\n",
    "parola=\"lamentava\"\n",
    "contatorerighe = 1\n",
    "for i in libro:\n",
    "    a = i.split()\n",
    "    if parola in a:\n",
    "        flag = True\n",
    "        print(\"Parola presente alla riga\", contatorerighe)\n",
    "    contatorerighe += 1"
   ]
  },
  {
   "cell_type": "markdown",
   "id": "69d33ded",
   "metadata": {},
   "source": [
    " trasformiamo il programma sopra in una funzione (più comoda)"
   ]
  },
  {
   "cell_type": "code",
   "execution_count": 75,
   "id": "1da6175e",
   "metadata": {},
   "outputs": [],
   "source": [
    "# trasformiamola in funzione\n",
    "def cercaparola(parola, libro):\n",
    "    flag = False\n",
    "    contatorerighe = 1\n",
    "    for i in libro:\n",
    "        a = i.split()\n",
    "        if parola in a:\n",
    "            flag = True\n",
    "            print(\"Parola presente alla riga\", contatorerighe)\n",
    "            contatorerighe += 1\n",
    "    return flag"
   ]
  },
  {
   "cell_type": "code",
   "execution_count": 77,
   "id": "20f7f9de",
   "metadata": {},
   "outputs": [
    {
     "name": "stdout",
     "output_type": "stream",
     "text": [
      "Parola presente alla riga 1\n"
     ]
    },
    {
     "data": {
      "text/plain": [
       "True"
      ]
     },
     "execution_count": 77,
     "metadata": {},
     "output_type": "execute_result"
    }
   ],
   "source": [
    "cercaparola(\"lamentava\", libro)"
   ]
  },
  {
   "cell_type": "markdown",
   "id": "dc832dbd",
   "metadata": {},
   "source": [
    "# ORA PROVA TU\n",
    "Modifica la funzione sopra in modo che mostri quante parole totali ci siano nel testo (una stessa parola può essere contata più volte) e quante volte una data parola è ripetuta nel testo"
   ]
  },
  {
   "cell_type": "code",
   "execution_count": null,
   "id": "0e02288d",
   "metadata": {},
   "outputs": [],
   "source": []
  },
  {
   "cell_type": "markdown",
   "id": "00c948a2",
   "metadata": {},
   "source": [
    "# I MODULI PYTHON\n",
    "Se creo un gruppo di funzioni utili posso raggrupparle in un MODULO (o libreria) in modo che chiunque le possa importare in Python e utilizzarle.\n",
    "\n",
    "Il comando Python per importare un modulo è **import**\n"
   ]
  },
  {
   "cell_type": "code",
   "execution_count": 78,
   "id": "1d021257",
   "metadata": {},
   "outputs": [],
   "source": [
    "# es importiamo una serie di funzioni matematica\n",
    "import math as mat"
   ]
  },
  {
   "cell_type": "code",
   "execution_count": 85,
   "id": "f90a7017",
   "metadata": {},
   "outputs": [
    {
     "data": {
      "text/plain": [
       "3.141592653589793"
      ]
     },
     "execution_count": 85,
     "metadata": {},
     "output_type": "execute_result"
    }
   ],
   "source": [
    "mat.pi"
   ]
  },
  {
   "cell_type": "code",
   "execution_count": 86,
   "id": "8ffbac17",
   "metadata": {},
   "outputs": [
    {
     "data": {
      "text/plain": [
       "1.0"
      ]
     },
     "execution_count": 86,
     "metadata": {},
     "output_type": "execute_result"
    }
   ],
   "source": [
    "mat.sin(mat.pi/2)"
   ]
  },
  {
   "cell_type": "code",
   "execution_count": 87,
   "id": "c3e77e28",
   "metadata": {},
   "outputs": [
    {
     "data": {
      "text/plain": [
       "4.0"
      ]
     },
     "execution_count": 87,
     "metadata": {},
     "output_type": "execute_result"
    }
   ],
   "source": [
    "mat.sqrt(16)"
   ]
  },
  {
   "cell_type": "markdown",
   "id": "62a0d710",
   "metadata": {},
   "source": [
    "# LA LIBRERIA NUMPY\n",
    "Numpy è una libreria Python sviluppata con l'intento di gestire in maniera ottimale gli array ossia i vettori, le matrici e i tensori (immaginate una matrice con tre, quattro, n dimensioni). Ogniqualvolta è necessario effettuare dei calcoli che coinvolgono array è fortemente consigliato l'uso di questa libreria perchè risulta molto efficiente e veloce nelle operazioni di calcolo"
   ]
  },
  {
   "cell_type": "code",
   "execution_count": 96,
   "id": "bf709a14",
   "metadata": {},
   "outputs": [],
   "source": [
    "import numpy as np"
   ]
  },
  {
   "cell_type": "code",
   "execution_count": 97,
   "id": "76604dbe",
   "metadata": {},
   "outputs": [
    {
     "ename": "SyntaxError",
     "evalue": "invalid syntax (1066413486.py, line 2)",
     "output_type": "error",
     "traceback": [
      "\u001b[0;36m  File \u001b[0;32m\"/tmp/ipykernel_134911/1066413486.py\"\u001b[0;36m, line \u001b[0;32m2\u001b[0m\n\u001b[0;31m    np.?\u001b[0m\n\u001b[0m       ^\u001b[0m\n\u001b[0;31mSyntaxError\u001b[0m\u001b[0;31m:\u001b[0m invalid syntax\n"
     ]
    }
   ],
   "source": [
    "# Quante funzioni ha la libreria numpy?\n",
    "np."
   ]
  },
  {
   "cell_type": "markdown",
   "id": "a475e2fc",
   "metadata": {},
   "source": [
    "Un array è una collezione di oggetti dello stesso tipo. Per es. una collezione di interi, di float, di stringhe. La cosa importante è che, a differenza di una lista, gli array contengono oggetti dello stesso tipo.\n",
    "\n",
    "Come creiamo un array in Numpy? Ci sono diversi modi:\n"
   ]
  },
  {
   "cell_type": "markdown",
   "id": "a2d87d34",
   "metadata": {},
   "source": [
    "1. Creo un array da una lista Python"
   ]
  },
  {
   "cell_type": "code",
   "execution_count": 98,
   "id": "6155eec2",
   "metadata": {},
   "outputs": [
    {
     "data": {
      "text/plain": [
       "array([1, 2, 3, 4])"
      ]
     },
     "execution_count": 98,
     "metadata": {},
     "output_type": "execute_result"
    }
   ],
   "source": [
    "a= [1,2,3,4]\n",
    "v1 = np.array(a) \n",
    "v1"
   ]
  },
  {
   "cell_type": "markdown",
   "id": "2bf5778d",
   "metadata": {},
   "source": [
    "Che TIPO è un array in Numpy? è un NDARRAY"
   ]
  },
  {
   "cell_type": "code",
   "execution_count": 102,
   "id": "69e73ffc",
   "metadata": {},
   "outputs": [
    {
     "data": {
      "text/plain": [
       "numpy.ndarray"
      ]
     },
     "execution_count": 102,
     "metadata": {},
     "output_type": "execute_result"
    }
   ],
   "source": [
    "type(v1)"
   ]
  },
  {
   "cell_type": "code",
   "execution_count": 105,
   "id": "f174fcee",
   "metadata": {},
   "outputs": [
    {
     "data": {
      "text/plain": [
       "array([1., 2., 3., 4.], dtype=float32)"
      ]
     },
     "execution_count": 105,
     "metadata": {},
     "output_type": "execute_result"
    }
   ],
   "source": [
    "# se voglio specificare il tipo di oggetto contenuto nell'array uso dtype=\n",
    "np.array([1, 2, 3, 4], dtype='float32')"
   ]
  },
  {
   "cell_type": "markdown",
   "id": "4e5aaff3",
   "metadata": {},
   "source": [
    "2. Creo un array utilizzando alcune funzioni di Numpy"
   ]
  },
  {
   "cell_type": "code",
   "execution_count": 112,
   "id": "ff2b6c57",
   "metadata": {},
   "outputs": [
    {
     "data": {
      "text/plain": [
       "array([0, 0, 0, 0, 0, 0, 0, 0, 0, 0])"
      ]
     },
     "execution_count": 112,
     "metadata": {},
     "output_type": "execute_result"
    }
   ],
   "source": [
    "# creiamo un vettore di dimensione 10 che contiene 0\n",
    "np.zeros(10, dtype=int)"
   ]
  },
  {
   "cell_type": "code",
   "execution_count": 113,
   "id": "f1a16d44",
   "metadata": {},
   "outputs": [
    {
     "data": {
      "text/plain": [
       "array([1., 1., 1., 1., 1., 1., 1., 1., 1., 1.])"
      ]
     },
     "execution_count": 113,
     "metadata": {},
     "output_type": "execute_result"
    }
   ],
   "source": [
    "# creiamo un vettore di dimensione 10 che contiene 1\n",
    "np.ones(10)"
   ]
  },
  {
   "cell_type": "code",
   "execution_count": 114,
   "id": "93098224",
   "metadata": {},
   "outputs": [
    {
     "data": {
      "text/plain": [
       "array([[1., 1., 1., 1., 1.],\n",
       "       [1., 1., 1., 1., 1.],\n",
       "       [1., 1., 1., 1., 1.]])"
      ]
     },
     "execution_count": 114,
     "metadata": {},
     "output_type": "execute_result"
    }
   ],
   "source": [
    "# creiamo una matrice 3 righe X 5 colonne di 1\n",
    "np.ones((3, 5), dtype=float)"
   ]
  },
  {
   "cell_type": "code",
   "execution_count": 116,
   "id": "f4ce709f",
   "metadata": {},
   "outputs": [
    {
     "data": {
      "text/plain": [
       "array([[3.14, 3.14, 3.14, 3.14, 3.14],\n",
       "       [3.14, 3.14, 3.14, 3.14, 3.14],\n",
       "       [3.14, 3.14, 3.14, 3.14, 3.14]])"
      ]
     },
     "execution_count": 116,
     "metadata": {},
     "output_type": "execute_result"
    }
   ],
   "source": [
    "# creo una mtrice di 3 righe X 3 colonne che contiene 3.14\n",
    "np.full((3, 5), 3.14)"
   ]
  },
  {
   "cell_type": "code",
   "execution_count": 146,
   "id": "491406f3",
   "metadata": {},
   "outputs": [
    {
     "data": {
      "text/plain": [
       "array([[1., 0., 0.],\n",
       "       [0., 1., 0.],\n",
       "       [0., 0., 1.]])"
      ]
     },
     "execution_count": 146,
     "metadata": {},
     "output_type": "execute_result"
    }
   ],
   "source": [
    "# Create una matrice IDENTITA' di 3x3 \n",
    "np.eye(3)"
   ]
  },
  {
   "cell_type": "code",
   "execution_count": 137,
   "id": "b4e47909",
   "metadata": {},
   "outputs": [
    {
     "data": {
      "text/plain": [
       "array([ 0,  2,  4,  6,  8, 10, 12, 14, 16, 18])"
      ]
     },
     "execution_count": 137,
     "metadata": {},
     "output_type": "execute_result"
    }
   ],
   "source": [
    "# Crea un array riempito con una sequenza lineare\n",
    "# che parte da 0, termina a 20, con un salto (step) di 2\n",
    "# \n",
    "np.arange(0, 20, 2)"
   ]
  },
  {
   "cell_type": "code",
   "execution_count": null,
   "id": "9daa1e38",
   "metadata": {},
   "outputs": [],
   "source": []
  },
  {
   "cell_type": "code",
   "execution_count": 140,
   "id": "fd766f4a",
   "metadata": {},
   "outputs": [
    {
     "data": {
      "text/plain": [
       "array([0.  , 0.25, 0.5 , 0.75, 1.  ])"
      ]
     },
     "execution_count": 140,
     "metadata": {},
     "output_type": "execute_result"
    }
   ],
   "source": [
    "# Creao un array di 5 elementi equidistanziati tra 0 e 1\n",
    "np.linspace(0, 1, 5)"
   ]
  },
  {
   "cell_type": "code",
   "execution_count": 143,
   "id": "4cc0c394",
   "metadata": {},
   "outputs": [
    {
     "data": {
      "text/plain": [
       "array([[0.73926358, 0.03918779, 0.28280696],\n",
       "       [0.12019656, 0.2961402 , 0.11872772],\n",
       "       [0.31798318, 0.41426299, 0.0641475 ]])"
      ]
     },
     "execution_count": 143,
     "metadata": {},
     "output_type": "execute_result"
    }
   ],
   "source": [
    "# Creo un array 3x3 di numeri uniformemente distribuiti tra 0 e 1\n",
    "np.random.random((3,3))"
   ]
  },
  {
   "cell_type": "code",
   "execution_count": 144,
   "id": "801e4b94",
   "metadata": {},
   "outputs": [
    {
     "data": {
      "text/plain": [
       "array([[2, 3, 4],\n",
       "       [1, 2, 9],\n",
       "       [1, 4, 6]])"
      ]
     },
     "execution_count": 144,
     "metadata": {},
     "output_type": "execute_result"
    }
   ],
   "source": [
    "# Crea un array 3x3 di numeri INTERI casuali nell'intervallo [0, 10)\n",
    "np.random.randint(0, 10, size=(3, 3))"
   ]
  },
  {
   "cell_type": "markdown",
   "id": "6b455e05",
   "metadata": {},
   "source": [
    "# Gli attributi di un array: ndim, shape, size"
   ]
  },
  {
   "cell_type": "code",
   "execution_count": 147,
   "id": "34241387",
   "metadata": {},
   "outputs": [],
   "source": [
    "np.random.seed(0)  # imposta il seme dei numeri casuali per generare sempre gli stessi numeri\n",
    "\n",
    "x1 = np.random.randint(10, size=6)  # One-dimensional array\n",
    "x2 = np.random.randint(10, size=(3, 4))  # Two-dimensional array\n",
    "x3 = np.random.randint(10, size=(3, 4, 5))  # Three-dimensional array"
   ]
  },
  {
   "cell_type": "code",
   "execution_count": 128,
   "id": "0ea6368b",
   "metadata": {},
   "outputs": [
    {
     "data": {
      "text/plain": [
       "numpy.ndarray"
      ]
     },
     "execution_count": 128,
     "metadata": {},
     "output_type": "execute_result"
    }
   ],
   "source": [
    "type(x2)"
   ]
  },
  {
   "cell_type": "code",
   "execution_count": 133,
   "id": "bb6d1195",
   "metadata": {},
   "outputs": [
    {
     "data": {
      "text/plain": [
       "12"
      ]
     },
     "execution_count": 133,
     "metadata": {},
     "output_type": "execute_result"
    }
   ],
   "source": [
    "x2.size"
   ]
  },
  {
   "cell_type": "code",
   "execution_count": null,
   "id": "0e30c3b0",
   "metadata": {},
   "outputs": [],
   "source": [
    "print(\"x3 ndim: \", x3.ndim)\n",
    "print(\"x3 shape:\", x3.shape)\n",
    "print(\"x3 size: \", x3.size)"
   ]
  },
  {
   "cell_type": "markdown",
   "id": "011ee2cb",
   "metadata": {},
   "source": [
    "# Operazioni con gli array (vectorization)\n",
    "Numpy permette di eseguire tutte le operazioni stanrdar sugli array"
   ]
  },
  {
   "cell_type": "code",
   "execution_count": 157,
   "id": "ecfd7367",
   "metadata": {},
   "outputs": [
    {
     "data": {
      "text/plain": [
       "array([0, 2, 7, 2, 9, 2, 3, 3, 2, 3])"
      ]
     },
     "execution_count": 157,
     "metadata": {},
     "output_type": "execute_result"
    }
   ],
   "source": [
    "x1 = np.random.randint(0,10,size=10)\n",
    "x1"
   ]
  },
  {
   "cell_type": "code",
   "execution_count": 159,
   "id": "69637af4",
   "metadata": {},
   "outputs": [
    {
     "data": {
      "text/plain": [
       "array([ 2,  4,  9,  4, 11,  4,  5,  5,  4,  5])"
      ]
     },
     "execution_count": 159,
     "metadata": {},
     "output_type": "execute_result"
    }
   ],
   "source": [
    "2+x1   # somma per un numero"
   ]
  },
  {
   "cell_type": "code",
   "execution_count": 160,
   "id": "9c804c1f",
   "metadata": {},
   "outputs": [
    {
     "data": {
      "text/plain": [
       "array([ 0,  4, 14,  4, 18,  4,  6,  6,  4,  6])"
      ]
     },
     "execution_count": 160,
     "metadata": {},
     "output_type": "execute_result"
    }
   ],
   "source": [
    "2*x1 # prodotto per scalare"
   ]
  },
  {
   "cell_type": "code",
   "execution_count": 161,
   "id": "a45d8865",
   "metadata": {},
   "outputs": [
    {
     "data": {
      "text/plain": [
       "array([0. , 1. , 3.5, 1. , 4.5, 1. , 1.5, 1.5, 1. , 1.5])"
      ]
     },
     "execution_count": 161,
     "metadata": {},
     "output_type": "execute_result"
    }
   ],
   "source": [
    "x1/2 # divisione"
   ]
  },
  {
   "cell_type": "code",
   "execution_count": 162,
   "id": "64a19b1a",
   "metadata": {},
   "outputs": [
    {
     "data": {
      "text/plain": [
       "array([ 0,  4, 49,  4, 81,  4,  9,  9,  4,  9])"
      ]
     },
     "execution_count": 162,
     "metadata": {},
     "output_type": "execute_result"
    }
   ],
   "source": [
    "x1**2 # potenza"
   ]
  },
  {
   "cell_type": "markdown",
   "id": "d4ea4bad",
   "metadata": {},
   "source": [
    "## Proviamo ora a plottare la funzione $y = x^2$"
   ]
  },
  {
   "cell_type": "code",
   "execution_count": 165,
   "id": "3209ecc2",
   "metadata": {},
   "outputs": [
    {
     "data": {
      "text/plain": [
       "array([-2.        , -1.91836735, -1.83673469, -1.75510204, -1.67346939,\n",
       "       -1.59183673, -1.51020408, -1.42857143, -1.34693878, -1.26530612,\n",
       "       -1.18367347, -1.10204082, -1.02040816, -0.93877551, -0.85714286,\n",
       "       -0.7755102 , -0.69387755, -0.6122449 , -0.53061224, -0.44897959,\n",
       "       -0.36734694, -0.28571429, -0.20408163, -0.12244898, -0.04081633,\n",
       "        0.04081633,  0.12244898,  0.20408163,  0.28571429,  0.36734694,\n",
       "        0.44897959,  0.53061224,  0.6122449 ,  0.69387755,  0.7755102 ,\n",
       "        0.85714286,  0.93877551,  1.02040816,  1.10204082,  1.18367347,\n",
       "        1.26530612,  1.34693878,  1.42857143,  1.51020408,  1.59183673,\n",
       "        1.67346939,  1.75510204,  1.83673469,  1.91836735,  2.        ])"
      ]
     },
     "execution_count": 165,
     "metadata": {},
     "output_type": "execute_result"
    }
   ],
   "source": [
    "x = np.linspace(-2,2,50)\n",
    "x"
   ]
  },
  {
   "cell_type": "code",
   "execution_count": 168,
   "id": "efe0d181",
   "metadata": {},
   "outputs": [
    {
     "data": {
      "text/plain": [
       "array([4.00000000e+00, 3.68013328e+00, 3.37359434e+00, 3.08038317e+00,\n",
       "       2.80049979e+00, 2.53394419e+00, 2.28071637e+00, 2.04081633e+00,\n",
       "       1.81424406e+00, 1.60099958e+00, 1.40108288e+00, 1.21449396e+00,\n",
       "       1.04123282e+00, 8.81299459e-01, 7.34693878e-01, 6.01416077e-01,\n",
       "       4.81466056e-01, 3.74843815e-01, 2.81549354e-01, 2.01582674e-01,\n",
       "       1.34943773e-01, 8.16326531e-02, 4.16493128e-02, 1.49937526e-02,\n",
       "       1.66597251e-03, 1.66597251e-03, 1.49937526e-02, 4.16493128e-02,\n",
       "       8.16326531e-02, 1.34943773e-01, 2.01582674e-01, 2.81549354e-01,\n",
       "       3.74843815e-01, 4.81466056e-01, 6.01416077e-01, 7.34693878e-01,\n",
       "       8.81299459e-01, 1.04123282e+00, 1.21449396e+00, 1.40108288e+00,\n",
       "       1.60099958e+00, 1.81424406e+00, 2.04081633e+00, 2.28071637e+00,\n",
       "       2.53394419e+00, 2.80049979e+00, 3.08038317e+00, 3.37359434e+00,\n",
       "       3.68013328e+00, 4.00000000e+00])"
      ]
     },
     "execution_count": 168,
     "metadata": {},
     "output_type": "execute_result"
    }
   ],
   "source": [
    "y = x **2\n",
    "y"
   ]
  },
  {
   "cell_type": "code",
   "execution_count": 169,
   "id": "1b85e53f",
   "metadata": {},
   "outputs": [
    {
     "data": {
      "text/plain": [
       "[<matplotlib.lines.Line2D at 0x7f4c38316070>]"
      ]
     },
     "execution_count": 169,
     "metadata": {},
     "output_type": "execute_result"
    },
    {
     "data": {
      "image/png": "[encoded data removed]",
      "text/plain": [
       "<Figure size 640x480 with 1 Axes>"
      ]
     },
     "metadata": {},
     "output_type": "display_data"
    }
   ],
   "source": [
    "# importo la libreria di Plotting di Python e uso il comando plot\n",
    "import matplotlib.pyplot as plt\n",
    "plt.plot(x,y)"
   ]
  },
  {
   "cell_type": "code",
   "execution_count": 172,
   "id": "8f10847e",
   "metadata": {},
   "outputs": [
    {
     "data": {
      "text/plain": [
       "array([-0.90929743, -0.94020283, -0.96484631, -0.98306373, -0.99473375,\n",
       "       -0.99977866, -0.99816485, -0.98990308, -0.97504836, -0.95369963,\n",
       "       -0.92599909, -0.89213121, -0.85232157, -0.80683531, -0.75597537,\n",
       "       -0.70008048, -0.63952294, -0.57470604, -0.5060615 , -0.43404648,\n",
       "       -0.35914064, -0.28184285, -0.20266794, -0.12214321, -0.04080499,\n",
       "        0.04080499,  0.12214321,  0.20266794,  0.28184285,  0.35914064,\n",
       "        0.43404648,  0.5060615 ,  0.57470604,  0.63952294,  0.70008048,\n",
       "        0.75597537,  0.80683531,  0.85232157,  0.89213121,  0.92599909,\n",
       "        0.95369963,  0.97504836,  0.98990308,  0.99816485,  0.99977866,\n",
       "        0.99473375,  0.98306373,  0.96484631,  0.94020283,  0.90929743])"
      ]
     },
     "execution_count": 172,
     "metadata": {},
     "output_type": "execute_result"
    }
   ],
   "source": [
    "np.sin(x)"
   ]
  },
  {
   "cell_type": "code",
   "execution_count": null,
   "id": "3bbdd788",
   "metadata": {},
   "outputs": [],
   "source": []
  },
  {
   "cell_type": "code",
   "execution_count": null,
   "id": "c57f6910",
   "metadata": {},
   "outputs": [],
   "source": []
  },
  {
   "cell_type": "code",
   "execution_count": 163,
   "id": "a959cb82",
   "metadata": {},
   "outputs": [
    {
     "data": {
      "text/plain": [
       "array([2, 1, 0, 1, 2])"
      ]
     },
     "execution_count": 163,
     "metadata": {},
     "output_type": "execute_result"
    }
   ],
   "source": [
    "x = np.array([-2, -1, 0, 1, 2])\n",
    "abs(x)"
   ]
  },
  {
   "cell_type": "code",
   "execution_count": 173,
   "id": "fe159d95",
   "metadata": {},
   "outputs": [],
   "source": [
    "def sum(x):\n",
    "    return x*2"
   ]
  },
  {
   "cell_type": "code",
   "execution_count": 174,
   "id": "42e13a9b",
   "metadata": {},
   "outputs": [
    {
     "data": {
      "text/plain": [
       "array([ 0.        ,  0.52631579,  1.05263158,  1.57894737,  2.10526316,\n",
       "        2.63157895,  3.15789474,  3.68421053,  4.21052632,  4.73684211,\n",
       "        5.26315789,  5.78947368,  6.31578947,  6.84210526,  7.36842105,\n",
       "        7.89473684,  8.42105263,  8.94736842,  9.47368421, 10.        ])"
      ]
     },
     "execution_count": 174,
     "metadata": {},
     "output_type": "execute_result"
    }
   ],
   "source": [
    "x = np.linspace(0,5,20)\n",
    "sumvect = np.vectorize(sum)\n",
    "sumvect(x)"
   ]
  },
  {
   "cell_type": "code",
   "execution_count": null,
   "id": "d64fa654",
   "metadata": {},
   "outputs": [],
   "source": []
  },
  {
   "cell_type": "code",
   "execution_count": null,
   "id": "db619bba",
   "metadata": {},
   "outputs": [],
   "source": []
  },
  {
   "cell_type": "code",
   "execution_count": null,
   "id": "dafe4bbb",
   "metadata": {},
   "outputs": [],
   "source": []
  },
  {
   "cell_type": "markdown",
   "id": "8396f376",
   "metadata": {},
   "source": [
    "## Array Indexing: accedere ad un singolo elemento"
   ]
  },
  {
   "cell_type": "code",
   "execution_count": null,
   "id": "5dc0ba31",
   "metadata": {},
   "outputs": [],
   "source": []
  },
  {
   "cell_type": "code",
   "execution_count": null,
   "id": "ca5a3018",
   "metadata": {},
   "outputs": [],
   "source": []
  }
 ],
 "metadata": {
  "hide_input": false,
  "kernelspec": {
   "display_name": "Python 3 (ipykernel)",
   "language": "python",
   "name": "python3"
  },
  "language_info": {
   "codemirror_mode": {
    "name": "ipython",
    "version": 3
   },
   "file_extension": ".py",
   "mimetype": "text/x-python",
   "name": "python",
   "nbconvert_exporter": "python",
   "pygments_lexer": "ipython3",
   "version": "3.9.12"
  },
  "varInspector": {
   "cols": {
    "lenName": 16,
    "lenType": 16,
    "lenVar": 40
   },
   "kernels_config": {
    "python": {
     "delete_cmd_postfix": "",
     "delete_cmd_prefix": "del ",
     "library": "var_list.py",
     "varRefreshCmd": "print(var_dic_list())"
    },
    "r": {
     "delete_cmd_postfix": ") ",
     "delete_cmd_prefix": "rm(",
     "library": "var_list.r",
     "varRefreshCmd": "cat(var_dic_list()) "
    }
   },
   "types_to_exclude": [
    "module",
    "function",
    "builtin_function_or_method",
    "instance",
    "_Feature"
   ],
   "window_display": false
  }
 },
 "nbformat": 4,
 "nbformat_minor": 5
}
