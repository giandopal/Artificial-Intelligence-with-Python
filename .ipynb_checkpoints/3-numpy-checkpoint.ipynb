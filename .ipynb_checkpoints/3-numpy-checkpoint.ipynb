{
 "cells": [
  {
   "cell_type": "markdown",
   "id": "f912ba38",
   "metadata": {},
   "source": [
    "   # QUICK RECAP\n",
    "   \n",
    "    Nella scorsa lezione abbiamo visto:\n",
    "    - come richiamare l'help dei comandi\n",
    "    - l'Istruzione condizionale IF - ELIF - ELSE\n",
    "    . l'istruzione che genera i loop: FOR \n",
    "    - come utilizzare le istruzioni condizionali e il for per risolvere alcuni problemi\n",
    "    - come un oggetto python è associato ad una variabile (puntatore) e cosa sono i METODI associati all'oggetto, utilizzabili con la sintassi **variabile.metodo**\n",
    "    "
   ]
  },
  {
   "cell_type": "markdown",
   "id": "638ceca5",
   "metadata": {},
   "source": [
    "# vediamo un esempio pratico: \n",
    "\n",
    "Estraggo tutti i numeri primi in una lista di n elementi e li conservo in un contenitori\n",
    "\n",
    "ALGORITMO da utilizzare:\n",
    " - creo una lista di n elementi (es da 0 a 99)\n",
    " - creo una lista vuota dove conservare i numeri primi\n",
    " - ciclo su tutti gli elementi della lista\n",
    "    - se il numero estratto è un numeri primo\n",
    "        - aggiungo il numero nel contenitore\n",
    "        \n",
    "        \n",
    "Come rappresento l'algoritmo?\n",
    "# Diagramma di flusso\n",
    "        \n",
    "<img src=\"fig/flusso1.png\">\n",
    "\n",
    "    "
   ]
  },
  {
   "cell_type": "markdown",
   "id": "b2df60c5",
   "metadata": {},
   "source": [
    "## CREIAMO IL CODICE"
   ]
  },
  {
   "cell_type": "code",
   "execution_count": null,
   "id": "26e6b111",
   "metadata": {},
   "outputs": [],
   "source": []
  },
  {
   "cell_type": "code",
   "execution_count": null,
   "id": "3c20edd7",
   "metadata": {},
   "outputs": [],
   "source": []
  },
  {
   "cell_type": "code",
   "execution_count": null,
   "id": "6aecb3c5",
   "metadata": {},
   "outputs": [],
   "source": []
  },
  {
   "cell_type": "code",
   "execution_count": 33,
   "id": "4f83f766",
   "metadata": {},
   "outputs": [],
   "source": [
    "# creiamo una lista di 100 numeri da 0 a 99\n",
    "a= list(range(0,100)) \n",
    "\n",
    "# creaiamo contenitore VUOTO per numeri primi\n",
    "listanumeriprimi=[]"
   ]
  },
  {
   "cell_type": "code",
   "execution_count": 34,
   "id": "96dea7a9",
   "metadata": {},
   "outputs": [],
   "source": [
    "for i in a:\n",
    "    if (checknumeroprimo(i)):\n",
    "        listanumeriprimi.append(i)"
   ]
  },
  {
   "cell_type": "code",
   "execution_count": 39,
   "id": "3f7a6b14",
   "metadata": {},
   "outputs": [],
   "source": [
    "def checknumeroprimo(n):\n",
    "    # la funzione restituisce TRUE se il numero è primo\n",
    "    flag = True # supponiamo di default che il numero sia primo\n",
    "    if n <= 1:\n",
    "        flag=False\n",
    "    else:\n",
    "        for i in range(2, n):\n",
    "            if (n % i) == 0: # se il numero è divisibile allora non è primo\n",
    "                flag = False\n",
    "                break # usciamo dal FOR non ha più senso andare avanti\n",
    "    return flag "
   ]
  },
  {
   "cell_type": "code",
   "execution_count": 32,
   "id": "f6e4c2b6",
   "metadata": {
    "hide_input": false
   },
   "outputs": [
    {
     "name": "stdout",
     "output_type": "stream",
     "text": [
      "False\n"
     ]
    }
   ],
   "source": [
    "print(checknumeroprimo(16))"
   ]
  },
  {
   "cell_type": "code",
   "execution_count": 40,
   "id": "5d9cee3a",
   "metadata": {},
   "outputs": [
    {
     "data": {
      "text/plain": [
       "[2,\n",
       " 3,\n",
       " 5,\n",
       " 7,\n",
       " 11,\n",
       " 13,\n",
       " 17,\n",
       " 19,\n",
       " 23,\n",
       " 29,\n",
       " 31,\n",
       " 37,\n",
       " 41,\n",
       " 43,\n",
       " 47,\n",
       " 53,\n",
       " 59,\n",
       " 61,\n",
       " 67,\n",
       " 71,\n",
       " 73,\n",
       " 79,\n",
       " 83,\n",
       " 89,\n",
       " 97]"
      ]
     },
     "execution_count": 40,
     "metadata": {},
     "output_type": "execute_result"
    }
   ],
   "source": [
    "listanumeriprimi"
   ]
  },
  {
   "cell_type": "markdown",
   "id": "ced8992c",
   "metadata": {},
   "source": [
    "# UN ALTRO ESEMPIO\n",
    "Proviamo con le stringhe. Importiamo in una lista alcune righe di testo\n",
    "Scopo dell'esercizio e verificare quante volte una data parola compare nel testo."
   ]
  },
  {
   "cell_type": "code",
   "execution_count": 44,
   "id": "ee7d82b6",
   "metadata": {},
   "outputs": [],
   "source": [
    "libro = [\"Secondo lo storico Harold Innis dal tredicesimo secolo l'avvento delle Università richiese una produzione maggiore di libri di testo, che comportò un declino graduale della pratica della\",\n",
    "        \"discussione dialettica in classe, caratteristica delle culture precedenti con il crescere dell'autorità dei libri di testo\",\n",
    "        \"Il libro di testo è considerato il punto ideale di incontro tra docente e studente, un canale di comunicazione didattico privilegiato.\",\n",
    "        \"I libri di testo si devono integrare e arricchire con altri strumenti didattici, quali enciclopedie, fonti, manuali, appunti, etc.\",\n",
    "        \"Anche gli antichi Greci scrissero testi destinati alla didattica, ma il libro di testo moderno ha le sue radici nella standardizzazione resa possibile dalla stampa a caratteri mobili. Lo stesso\",\n",
    "        \"Johannes Gutenberg che l'ha inventata ha stampato alcune edizioni dell'Ars Minor, un libro di grammatica latina di Elio Donato. I primi libri di testo sono stati utilizzati sia dai docenti, che\",\n",
    "        \"usavano i libri come ausili didattici (per esempio, abecedari), quanto da quelle persone che studiavano da sole. Riguardo invece alla resistenza ai cambiamenti e alle innovazioni in questo\",\n",
    "        \"campo, già il filosofo greco Socrate lamentava la perdita di conoscenza causata dal cambiamento dei metodi di insegnamento. Infatti prima dell'invenzione dell'alfabeto greco, 2.500 anni fa, le\",\n",
    "        \"conoscenze e le storie venivano imparate a memoria e recitate a voce alta, come si dice facesse Omero con i suoi poemi. L'avvento della scrittura significava che non era più necessario\",\n",
    "        \"memorizzare tutto, uno sviluppo temuto da Socrate, che pensava che in questo modo si sarebbe indebolita nei Greci la capacità mentale di ricordare e raccontare. Paradossalmente conosciamo\",\n",
    "        \"queste idee di Socrate e la sua filosofia, solo perché sono state riportate dal suo allievo Platone che le ha scritte nei suoi dialoghi.\"]"
   ]
  },
  {
   "cell_type": "markdown",
   "id": "48895217",
   "metadata": {},
   "source": [
    "# ALGORITMO:\n",
    "Creo un ciclo nella lista e verifico se in ogni riga è presente la parola data\n",
    "\n",
    "N.B. Per verificare se una sequenza di caratteri è in una lista uso l'istruzione **in**"
   ]
  },
  {
   "cell_type": "code",
   "execution_count": 46,
   "id": "6f8b3fe9",
   "metadata": {},
   "outputs": [
    {
     "data": {
      "text/plain": [
       "True"
      ]
     },
     "execution_count": 46,
     "metadata": {},
     "output_type": "execute_result"
    }
   ],
   "source": [
    "\"discussione\" in libro[1]"
   ]
  },
  {
   "cell_type": "code",
   "execution_count": 43,
   "id": "7b7650fa",
   "metadata": {},
   "outputs": [
    {
     "data": {
      "text/plain": [
       "[\"Secondo lo storico Harold Innis dal tredicesimo secolo l'avvento delle Università richiese una produzione maggiore di libri di testo, che comportò un declino graduale della pratica della\",\n",
       " \"discussione dialettica in classe, caratteristica delle culture precedenti con il crescere dell'autorità dei libri di testo\",\n",
       " 'Il libro di testo è considerato il punto ideale di incontro tra docente e studente, un canale di comunicazione didattico privilegiato.',\n",
       " 'I libri di testo si devono integrare e arricchire con altri strumenti didattici, quali enciclopedie, fonti, manuali, appunti, etc.',\n",
       " 'Anche gli antichi Greci scrissero testi destinati alla didattica, ma il libro di testo moderno ha le sue radici nella standardizzazione resa possibile dalla stampa a caratteri mobili. Lo stesso',\n",
       " \"Johannes Gutenberg che l'ha inventata ha stampato alcune edizioni dell'Ars Minor, un libro di grammatica latina di Elio Donato. I primi libri di testo sono stati utilizzati sia dai docenti, che\",\n",
       " 'usavano i libri come ausili didattici (per esempio, abecedari), quanto da quelle persone che studiavano da sole. Riguardo invece alla resistenza ai cambiamenti e alle innovazioni in questo',\n",
       " \"campo, già il filosofo greco Socrate lamentava la perdita di conoscenza causata dal cambiamento dei metodi di insegnamento. Infatti prima dell'invenzione dell'alfabeto greco, 2.500 anni fa, le\",\n",
       " \"conoscenze e le storie venivano imparate a memoria e recitate a voce alta, come si dice facesse Omero con i suoi poemi. L'avvento della scrittura significava che non era più necessario\",\n",
       " 'memorizzare tutto, uno sviluppo temuto da Socrate, che pensava che in questo modo si sarebbe indebolita nei Greci la capacità mentale di ricordare e raccontare. Paradossalmente conosciamo',\n",
       " 'queste idee di Socrate e la sua filosofia, solo perché sono state riportate dal suo allievo Platone che le ha scritte nei suoi dialoghi.']"
      ]
     },
     "execution_count": 43,
     "metadata": {},
     "output_type": "execute_result"
    }
   ],
   "source": [
    "libro"
   ]
  }
 ],
 "metadata": {
  "hide_input": false,
  "kernelspec": {
   "display_name": "Python 3 (ipykernel)",
   "language": "python",
   "name": "python3"
  },
  "language_info": {
   "codemirror_mode": {
    "name": "ipython",
    "version": 3
   },
   "file_extension": ".py",
   "mimetype": "text/x-python",
   "name": "python",
   "nbconvert_exporter": "python",
   "pygments_lexer": "ipython3",
   "version": "3.9.12"
  },
  "varInspector": {
   "cols": {
    "lenName": 16,
    "lenType": 16,
    "lenVar": 40
   },
   "kernels_config": {
    "python": {
     "delete_cmd_postfix": "",
     "delete_cmd_prefix": "del ",
     "library": "var_list.py",
     "varRefreshCmd": "print(var_dic_list())"
    },
    "r": {
     "delete_cmd_postfix": ") ",
     "delete_cmd_prefix": "rm(",
     "library": "var_list.r",
     "varRefreshCmd": "cat(var_dic_list()) "
    }
   },
   "types_to_exclude": [
    "module",
    "function",
    "builtin_function_or_method",
    "instance",
    "_Feature"
   ],
   "window_display": false
  }
 },
 "nbformat": 4,
 "nbformat_minor": 5
}
