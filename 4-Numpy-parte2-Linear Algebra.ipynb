{
 "cells": [
  {
   "cell_type": "markdown",
   "id": "93f37de2",
   "metadata": {},
   "source": [
    "# QUICK RECAP\n",
    "   \n",
    "    Nella scorsa lezione abbiamo visto:\n",
    "    - un esempio di diagramma di flusso e due semplici programmi che utilizzano le strutture condizionali\n",
    "    - cosa è un modulo Python (es il modulo Math)\n",
    "    - la libreria Numpy, il tipo ndarray, la modalità di creazione di array, matrici e tensori, gli attributi ndim, shape e size, le prime operazioni con gi array quali la somma, la sottrazione e moltiplicazione per scalare.\n",
    "    - cosa si intende per Vectorization e Broadcasting\n",
    "    - come applicare una funzione ad un array e come vettorizzare una funzione\n",
    "    - come plottare una funzione generica di una variabile\n",
    "    - come modellizzare un'immagine con array"
   ]
  },
  {
   "cell_type": "code",
   "execution_count": 17,
   "id": "3a3c8798",
   "metadata": {},
   "outputs": [],
   "source": [
    "import numpy as np\n",
    "import matplotlib.pyplot as plt"
   ]
  },
  {
   "cell_type": "markdown",
   "id": "4516b08a",
   "metadata": {},
   "source": [
    "# VEDIAMO COME GESTIRE LA CELLA MARKDOWN\n",
    "\n",
    "Ciao questa è una casella di testo\n",
    "possiamo scrivere formule matematiche grazie ai comandi di un linguaggio di scrittura che si chiama LATX, per es $y = \\frac{\\pi}{2} * sin(x)$\n",
    "oppure $\\alpha \\vec x$\n",
    "\n",
    "Potete trovare i comandi per es sul sito\n",
    "\n",
    "https://wwwcdf.pd.infn.it/AppuntiLinux/latex_ambienti_matematici.htm"
   ]
  },
  {
   "cell_type": "markdown",
   "id": "f7167cce",
   "metadata": {},
   "source": [
    "## Rivediamo alcuni comandi per creare array (NB il tipo è ndarray)"
   ]
  },
  {
   "cell_type": "code",
   "execution_count": 15,
   "id": "3bfdaebc",
   "metadata": {},
   "outputs": [],
   "source": [
    "x1 = np.array([1,2,3,4,5])\n",
    "x2 = np.linspace(-5,5,100)\n",
    "x3 = np.random.randint(0,100,size=(10,10))\n",
    "x4 = np.ones((5,5,5))"
   ]
  },
  {
   "cell_type": "markdown",
   "id": "621cf08c",
   "metadata": {},
   "source": [
    "Abbiamo visto che una matrice (n,m) può essere utilizzata per rappresentare un'immagine"
   ]
  },
  {
   "cell_type": "code",
   "execution_count": 20,
   "id": "5e938074",
   "metadata": {},
   "outputs": [
    {
     "data": {
      "text/plain": [
       "<matplotlib.image.AxesImage at 0x7f55af038640>"
      ]
     },
     "execution_count": 20,
     "metadata": {},
     "output_type": "execute_result"
    },
    {
     "data": {
      "image/png": "[encoded data removed]",
      "text/plain": [
       "<Figure size 640x480 with 1 Axes>"
      ]
     },
     "metadata": {},
     "output_type": "display_data"
    }
   ],
   "source": [
    "plt.imshow(x3, cmap='gray')"
   ]
  },
  {
   "cell_type": "code",
   "execution_count": 23,
   "id": "fff0d91b",
   "metadata": {},
   "outputs": [],
   "source": []
  },
  {
   "cell_type": "markdown",
   "id": "1e682d2f",
   "metadata": {},
   "source": [
    "## Array Indexing: accedere ad un singolo elemento di un array"
   ]
  },
  {
   "cell_type": "code",
   "execution_count": 96,
   "id": "aaf944ec",
   "metadata": {},
   "outputs": [],
   "source": [
    "np.random.seed(0)  # seed for reproducibility\n",
    "\n",
    "x1 = np.random.randint(100, size=100)  # One-dimensional array\n",
    "x2 = np.random.randint(10, size=(10, 10))  # Two-dimensional array\n",
    "x3 = np.random.randint(10, size=(3, 4, 5))  # Three-dimensional array"
   ]
  },
  {
   "cell_type": "code",
   "execution_count": 31,
   "id": "ed6a3caf",
   "metadata": {},
   "outputs": [
    {
     "name": "stdout",
     "output_type": "stream",
     "text": [
      "x1 ndim:  1\n",
      "x1 shape: (6,)\n",
      "x1 size:  6\n"
     ]
    }
   ],
   "source": [
    "print(\"x1 ndim: \", x1.ndim)\n",
    "print(\"x1 shape:\", x1.shape)\n",
    "print(\"x1 size: \", x1.size)"
   ]
  },
  {
   "cell_type": "code",
   "execution_count": 32,
   "id": "2de4d2fe",
   "metadata": {},
   "outputs": [
    {
     "data": {
      "text/plain": [
       "array([5, 0, 3, 3, 7, 9])"
      ]
     },
     "execution_count": 32,
     "metadata": {},
     "output_type": "execute_result"
    }
   ],
   "source": [
    "x1"
   ]
  },
  {
   "cell_type": "code",
   "execution_count": 44,
   "id": "956b0577",
   "metadata": {},
   "outputs": [
    {
     "data": {
      "text/plain": [
       "5"
      ]
     },
     "execution_count": 44,
     "metadata": {},
     "output_type": "execute_result"
    }
   ],
   "source": [
    "# vogliamo accedere al primo elemento del vettore x1\n",
    "# Utilizziamo un indice\n",
    "x1[0]"
   ]
  },
  {
   "cell_type": "code",
   "execution_count": 35,
   "id": "e2181620",
   "metadata": {},
   "outputs": [
    {
     "data": {
      "text/plain": [
       "3"
      ]
     },
     "execution_count": 35,
     "metadata": {},
     "output_type": "execute_result"
    }
   ],
   "source": [
    "# vogliamo accedere al terzo elemento\n",
    "x1[2]"
   ]
  },
  {
   "cell_type": "code",
   "execution_count": 37,
   "id": "99d9fc54",
   "metadata": {},
   "outputs": [
    {
     "data": {
      "text/plain": [
       "9"
      ]
     },
     "execution_count": 37,
     "metadata": {},
     "output_type": "execute_result"
    }
   ],
   "source": [
    "# con i numeri negativi partiamo dal fondo del vettore\n",
    "x1[-1]"
   ]
  },
  {
   "cell_type": "code",
   "execution_count": 38,
   "id": "41b66844",
   "metadata": {},
   "outputs": [
    {
     "data": {
      "text/plain": [
       "7"
      ]
     },
     "execution_count": 38,
     "metadata": {},
     "output_type": "execute_result"
    }
   ],
   "source": [
    "x1[-2]"
   ]
  },
  {
   "cell_type": "code",
   "execution_count": 40,
   "id": "938f064a",
   "metadata": {},
   "outputs": [
    {
     "data": {
      "text/plain": [
       "array([[3, 5, 2, 4],\n",
       "       [7, 6, 8, 8],\n",
       "       [1, 6, 7, 7]])"
      ]
     },
     "execution_count": 40,
     "metadata": {},
     "output_type": "execute_result"
    }
   ],
   "source": [
    "# se abbiamo una matrice?\n",
    "x2"
   ]
  },
  {
   "cell_type": "code",
   "execution_count": 45,
   "id": "51704d6b",
   "metadata": {},
   "outputs": [
    {
     "name": "stdout",
     "output_type": "stream",
     "text": [
      "3 5 7 6\n"
     ]
    }
   ],
   "source": [
    "print (x2[0,0], x2[0,1], x2[1,0], x2[1,1])\n",
    "# il primo indice è il numero di RIGA, il secondo è il numero di colonna. \n",
    "# PARTENDO DA 0"
   ]
  },
  {
   "cell_type": "code",
   "execution_count": 47,
   "id": "486d482c",
   "metadata": {},
   "outputs": [
    {
     "data": {
      "text/plain": [
       "array([[3, 5, 2, 4],\n",
       "       [7, 6, 8, 8],\n",
       "       [1, 6, 7, 7]])"
      ]
     },
     "execution_count": 47,
     "metadata": {},
     "output_type": "execute_result"
    }
   ],
   "source": [
    "# Possiamo anche MODIFICARE uno specifico elemento\n",
    "x2"
   ]
  },
  {
   "cell_type": "code",
   "execution_count": 60,
   "id": "7344dc15",
   "metadata": {},
   "outputs": [
    {
     "data": {
      "text/plain": [
       "array([[ 1,  5,  9,  3],\n",
       "       [ 0,  5,  0,  1],\n",
       "       [ 2, 12,  2,  0]])"
      ]
     },
     "execution_count": 60,
     "metadata": {},
     "output_type": "execute_result"
    }
   ],
   "source": [
    "x2[2,1] = 12\n",
    "x2"
   ]
  },
  {
   "cell_type": "code",
   "execution_count": null,
   "id": "ec1e0fac",
   "metadata": {},
   "outputs": [],
   "source": []
  },
  {
   "cell_type": "markdown",
   "id": "d5dc8973",
   "metadata": {},
   "source": [
    "# ORA PROVA TU\n",
    "- Crea una matrice (10,10) di interi naturali tra 0 e 10 e imposta 4 nella seconda riga terza colonna "
   ]
  },
  {
   "cell_type": "code",
   "execution_count": null,
   "id": "d224e26d",
   "metadata": {},
   "outputs": [],
   "source": []
  },
  {
   "cell_type": "markdown",
   "id": "451b507b",
   "metadata": {},
   "source": [
    "## Array Slicing: estraiamo sotto-array da un array"
   ]
  },
  {
   "cell_type": "code",
   "execution_count": 61,
   "id": "8c42a7db",
   "metadata": {},
   "outputs": [
    {
     "data": {
      "text/plain": [
       "array([44, 47, 64, 67, 67,  9, 83, 21, 36, 87, 70, 88, 88, 12, 58, 65, 39,\n",
       "       87, 46, 88, 81, 37, 25, 77, 72,  9, 20, 80, 69, 79, 47, 64, 82, 99,\n",
       "       88, 49, 29, 19, 19, 14, 39, 32, 65,  9, 57, 32, 31, 74, 23, 35, 75,\n",
       "       55, 28, 34,  0,  0, 36, 53,  5, 38, 17, 79,  4, 42, 58, 31,  1, 65,\n",
       "       41, 57, 35, 11, 46, 82, 91,  0, 14, 99, 53, 12, 42, 84, 75, 68,  6,\n",
       "       68, 47,  3, 76, 52, 78, 15, 20, 99, 58, 23, 79, 13, 85, 48])"
      ]
     },
     "execution_count": 61,
     "metadata": {},
     "output_type": "execute_result"
    }
   ],
   "source": [
    "# riprendiamo il nostro array\n",
    "x1"
   ]
  },
  {
   "cell_type": "code",
   "execution_count": null,
   "id": "72c7a929",
   "metadata": {},
   "outputs": [],
   "source": []
  },
  {
   "cell_type": "code",
   "execution_count": 59,
   "id": "8271b746",
   "metadata": {},
   "outputs": [
    {
     "data": {
      "text/plain": [
       "(100,)"
      ]
     },
     "execution_count": 59,
     "metadata": {},
     "output_type": "execute_result"
    }
   ],
   "source": [
    "# questo è un vettore\n",
    "x1.shape"
   ]
  },
  {
   "cell_type": "markdown",
   "id": "9356a260",
   "metadata": {},
   "source": [
    "Proprio come possiamo usare le parentesi quadre per accedere ai singoli elementi dell'array, possiamo usarle anche per accedere ai sottoarray con la notazione **SLICE**, contrassegnata dal carattere due punti (``:``). \n",
    "Per utilizzare lo slice in un array ``x1``, il comando è:\n",
    "``` python\n",
    "x[start:stop:step]\n",
    "```\n",
    "Se uno di questi non è specificato, per impostazione predefinita vengono impostati i valori ``start=0``, ``stop=``*``dimensione dell'array``*, ``step=1``. \n"
   ]
  },
  {
   "cell_type": "code",
   "execution_count": 75,
   "id": "0f5b03b6",
   "metadata": {},
   "outputs": [
    {
     "data": {
      "text/plain": [
       "array([  0,   1,   2,   3,   4,   5,   6,   7,   8,   9,  10,  11,  12,\n",
       "        13,  14,  15,  16,  17,  18,  19,  20,  21,  22,  23,  24,  25,\n",
       "        26,  27,  28,  29,  30,  31,  32,  33,  34,  35,  36,  37,  38,\n",
       "        39,  40,  41,  42,  43,  44,  45,  46,  47,  48,  49,  50,  51,\n",
       "        52,  53,  54,  55,  56,  57,  58,  59,  60,  61,  62,  63,  64,\n",
       "        65,  66,  67,  68,  69,  70,  71,  72,  73,  74,  75,  76,  77,\n",
       "        78,  79,  80,  81,  82,  83,  84,  85,  86,  87,  88,  89,  90,\n",
       "        91,  92,  93,  94,  95,  96,  97,  98,  99, 100])"
      ]
     },
     "execution_count": 75,
     "metadata": {},
     "output_type": "execute_result"
    }
   ],
   "source": [
    "x5 = np.arange(0,101)\n",
    "x5"
   ]
  },
  {
   "cell_type": "code",
   "execution_count": 77,
   "id": "941cc6af",
   "metadata": {},
   "outputs": [
    {
     "data": {
      "text/plain": [
       "array([2, 3, 4, 5, 6, 7, 8, 9])"
      ]
     },
     "execution_count": 77,
     "metadata": {},
     "output_type": "execute_result"
    }
   ],
   "source": [
    "# estraiamo le posizioni da 3 a 10 (ricorda l'array parte da 0)\n",
    "x5[2:10]"
   ]
  },
  {
   "cell_type": "code",
   "execution_count": 79,
   "id": "0e6c3421",
   "metadata": {},
   "outputs": [
    {
     "data": {
      "text/plain": [
       "array([  3,   4,   5,   6,   7,   8,   9,  10,  11,  12,  13,  14,  15,\n",
       "        16,  17,  18,  19,  20,  21,  22,  23,  24,  25,  26,  27,  28,\n",
       "        29,  30,  31,  32,  33,  34,  35,  36,  37,  38,  39,  40,  41,\n",
       "        42,  43,  44,  45,  46,  47,  48,  49,  50,  51,  52,  53,  54,\n",
       "        55,  56,  57,  58,  59,  60,  61,  62,  63,  64,  65,  66,  67,\n",
       "        68,  69,  70,  71,  72,  73,  74,  75,  76,  77,  78,  79,  80,\n",
       "        81,  82,  83,  84,  85,  86,  87,  88,  89,  90,  91,  92,  93,\n",
       "        94,  95,  96,  97,  98,  99, 100])"
      ]
     },
     "execution_count": 79,
     "metadata": {},
     "output_type": "execute_result"
    }
   ],
   "source": [
    "# dalla posizione 2 fino alla fine (dopo il : non specifico nulla quindi di default\n",
    "# è la fine del vettore)\n",
    "x5[3:]"
   ]
  },
  {
   "cell_type": "code",
   "execution_count": 83,
   "id": "a9b3163c",
   "metadata": {},
   "outputs": [
    {
     "data": {
      "text/plain": [
       "array([ 91,  92,  93,  94,  95,  96,  97,  98,  99, 100])"
      ]
     },
     "execution_count": 83,
     "metadata": {},
     "output_type": "execute_result"
    }
   ],
   "source": [
    "# estraggo gli elementi dalla posizione 90 fino alla fine\n",
    "x5[-10:]"
   ]
  },
  {
   "cell_type": "code",
   "execution_count": 86,
   "id": "684bddb9",
   "metadata": {},
   "outputs": [
    {
     "data": {
      "text/plain": [
       "array([  0,   2,   4,   6,   8,  10,  12,  14,  16,  18,  20,  22,  24,\n",
       "        26,  28,  30,  32,  34,  36,  38,  40,  42,  44,  46,  48,  50,\n",
       "        52,  54,  56,  58,  60,  62,  64,  66,  68,  70,  72,  74,  76,\n",
       "        78,  80,  82,  84,  86,  88,  90,  92,  94,  96,  98, 100])"
      ]
     },
     "execution_count": 86,
     "metadata": {},
     "output_type": "execute_result"
    }
   ],
   "source": [
    "# estraggo gli elementi con posizione pari\n",
    "# notare ometto il numero che indica stop e ho due punti consecutivi\n",
    "x5[0::2]"
   ]
  },
  {
   "cell_type": "markdown",
   "id": "47729bb6",
   "metadata": {},
   "source": [
    "# quando lo step è NEGATIVO lo start e lo stop si scambiano\n"
   ]
  },
  {
   "cell_type": "code",
   "execution_count": 101,
   "id": "8b663aad",
   "metadata": {},
   "outputs": [
    {
     "data": {
      "text/plain": [
       "array([10,  9,  8,  7,  6,  5,  4,  3,  2])"
      ]
     },
     "execution_count": 101,
     "metadata": {},
     "output_type": "execute_result"
    }
   ],
   "source": [
    "x5[10:1:-1]"
   ]
  },
  {
   "cell_type": "markdown",
   "id": "c77fa603",
   "metadata": {},
   "source": [
    "# ORA PROVA TU\n",
    "- estrai da x5 i valori tra gli indici 30 e 50\n",
    "- estrai da x5 i primi 20 valori\n",
    "- estrai da x5 gli ultimi 40 valori\n",
    "- inverti l'array x5 (stampa prima l'ultimo numero fino al primo)\n"
   ]
  },
  {
   "cell_type": "code",
   "execution_count": null,
   "id": "db945fd8",
   "metadata": {},
   "outputs": [],
   "source": []
  },
  {
   "cell_type": "markdown",
   "id": "6b2f8880",
   "metadata": {},
   "source": [
    "# Vediamo con le MATRICI"
   ]
  },
  {
   "cell_type": "code",
   "execution_count": 97,
   "id": "bcd5a666",
   "metadata": {},
   "outputs": [
    {
     "data": {
      "text/plain": [
       "array([[1, 5, 9, 3, 0, 5, 0, 1, 2, 4],\n",
       "       [2, 0, 3, 2, 0, 7, 5, 9, 0, 2],\n",
       "       [7, 2, 9, 2, 3, 3, 2, 3, 4, 1],\n",
       "       [2, 9, 1, 4, 6, 8, 2, 3, 0, 0],\n",
       "       [6, 0, 6, 3, 3, 8, 8, 8, 2, 3],\n",
       "       [2, 0, 8, 8, 3, 8, 2, 8, 4, 3],\n",
       "       [0, 4, 3, 6, 9, 8, 0, 8, 5, 9],\n",
       "       [0, 9, 6, 5, 3, 1, 8, 0, 4, 9],\n",
       "       [6, 5, 7, 8, 8, 9, 2, 8, 6, 6],\n",
       "       [9, 1, 6, 8, 8, 3, 2, 3, 6, 3]])"
      ]
     },
     "execution_count": 97,
     "metadata": {},
     "output_type": "execute_result"
    }
   ],
   "source": [
    "x2"
   ]
  },
  {
   "cell_type": "code",
   "execution_count": 105,
   "id": "5b3e1b84",
   "metadata": {},
   "outputs": [
    {
     "data": {
      "text/plain": [
       "array([[3, 2],\n",
       "       [9, 2]])"
      ]
     },
     "execution_count": 105,
     "metadata": {},
     "output_type": "execute_result"
    }
   ],
   "source": [
    "# filtro righe da 2 a 4 e colonne da 3 a 5\n",
    "x2[1:3,2:4]"
   ]
  },
  {
   "cell_type": "code",
   "execution_count": 107,
   "id": "ef663130",
   "metadata": {},
   "outputs": [
    {
     "data": {
      "text/plain": [
       "array([7, 2, 9, 2, 3, 3, 2, 3, 4, 1])"
      ]
     },
     "execution_count": 107,
     "metadata": {},
     "output_type": "execute_result"
    }
   ],
   "source": [
    "# estraggo la terza riga\n",
    "x2[2,:]"
   ]
  },
  {
   "cell_type": "code",
   "execution_count": 108,
   "id": "cc9d47ad",
   "metadata": {},
   "outputs": [
    {
     "data": {
      "text/plain": [
       "array([9, 3, 9, 1, 6, 8, 3, 6, 7, 6])"
      ]
     },
     "execution_count": 108,
     "metadata": {},
     "output_type": "execute_result"
    }
   ],
   "source": [
    "# estraggo la terza colonna\n",
    "x2[:,2]"
   ]
  },
  {
   "cell_type": "code",
   "execution_count": 112,
   "id": "ac40da3c",
   "metadata": {},
   "outputs": [
    {
     "data": {
      "text/plain": [
       "array([2, 9, 0])"
      ]
     },
     "execution_count": 112,
     "metadata": {},
     "output_type": "execute_result"
    }
   ],
   "source": [
    "# dalla seconda colonna estraggo gli elementi tra la terza e la quinta riga\n",
    "x2[2:5,1]"
   ]
  },
  {
   "cell_type": "code",
   "execution_count": 113,
   "id": "3f3e18df",
   "metadata": {},
   "outputs": [
    {
     "data": {
      "text/plain": [
       "array([[1, 5, 9, 3, 0, 5, 0, 1, 2, 4],\n",
       "       [2, 0, 3, 2, 0, 7, 5, 9, 0, 2],\n",
       "       [7, 2, 9, 2, 3, 3, 2, 3, 4, 1]])"
      ]
     },
     "execution_count": 113,
     "metadata": {},
     "output_type": "execute_result"
    }
   ],
   "source": [
    "# estraggo le prime tre righe\n",
    "x2[:3,:]"
   ]
  },
  {
   "cell_type": "code",
   "execution_count": 118,
   "id": "c01d1cb7",
   "metadata": {},
   "outputs": [
    {
     "data": {
      "text/plain": [
       "array([[1, 2, 4],\n",
       "       [9, 0, 2],\n",
       "       [3, 4, 1],\n",
       "       [3, 0, 0],\n",
       "       [8, 2, 3],\n",
       "       [8, 4, 3],\n",
       "       [8, 5, 9],\n",
       "       [0, 4, 9],\n",
       "       [8, 6, 6],\n",
       "       [3, 6, 3]])"
      ]
     },
     "execution_count": 118,
     "metadata": {},
     "output_type": "execute_result"
    }
   ],
   "source": [
    "# estraggo le ultime tre colonne\n",
    "x2[:,-3:]"
   ]
  },
  {
   "cell_type": "markdown",
   "id": "11aabcac",
   "metadata": {},
   "source": [
    "# NB : lo slicing estra delle viste della matrice originale e le modifiche ai dati vengono fatti direttamente sulla matrice "
   ]
  },
  {
   "cell_type": "code",
   "execution_count": 120,
   "id": "8e226bb5",
   "metadata": {},
   "outputs": [
    {
     "data": {
      "text/plain": [
       "array([[1, 5, 9, 3, 0, 5, 0, 1, 2, 4],\n",
       "       [2, 0, 3, 2, 0, 7, 5, 9, 0, 2],\n",
       "       [7, 2, 9, 2, 3, 3, 2, 3, 4, 1]])"
      ]
     },
     "execution_count": 120,
     "metadata": {},
     "output_type": "execute_result"
    }
   ],
   "source": [
    "sub_x2 = x2[:3,:]\n",
    "sub_x2"
   ]
  },
  {
   "cell_type": "code",
   "execution_count": 125,
   "id": "21e60f1a",
   "metadata": {},
   "outputs": [
    {
     "data": {
      "text/plain": [
       "array([[1, 5, 9, 3, 0, 5, 0, 1, 2, 4],\n",
       "       [2, 0, 3, 2, 0, 7, 5, 9, 0, 2],\n",
       "       [7, 2, 3, 2, 3, 3, 2, 3, 4, 1]])"
      ]
     },
     "execution_count": 125,
     "metadata": {},
     "output_type": "execute_result"
    }
   ],
   "source": [
    "sub_x2[2,2]=3\n",
    "sub_x2"
   ]
  },
  {
   "cell_type": "markdown",
   "id": "0b0d7630",
   "metadata": {},
   "source": [
    "# osserviamo che la modifica è anche sulla matrice originale x2"
   ]
  },
  {
   "cell_type": "code",
   "execution_count": 124,
   "id": "d39f0ef8",
   "metadata": {},
   "outputs": [
    {
     "data": {
      "text/plain": [
       "array([[1, 5, 9, 3, 0, 5, 0, 1, 2, 4],\n",
       "       [2, 0, 3, 2, 0, 7, 5, 9, 0, 2],\n",
       "       [7, 2, 3, 2, 3, 3, 2, 3, 4, 1],\n",
       "       [2, 9, 1, 4, 6, 8, 2, 3, 0, 0],\n",
       "       [6, 0, 6, 3, 3, 8, 8, 8, 2, 3],\n",
       "       [2, 0, 8, 8, 3, 8, 2, 8, 4, 3],\n",
       "       [0, 4, 3, 6, 9, 8, 0, 8, 5, 9],\n",
       "       [0, 9, 6, 5, 3, 1, 8, 0, 4, 9],\n",
       "       [6, 5, 7, 8, 8, 9, 2, 8, 6, 6],\n",
       "       [9, 1, 6, 8, 8, 3, 2, 3, 6, 3]])"
      ]
     },
     "execution_count": 124,
     "metadata": {},
     "output_type": "execute_result"
    }
   ],
   "source": [
    "\n",
    "x2"
   ]
  },
  {
   "cell_type": "markdown",
   "id": "b59f59c7",
   "metadata": {},
   "source": [
    "# Ora prova tu\n",
    "- estrai da x2 gli elementi tra la quarta e settima riga e tra la quinta e ottava colonna\n",
    "- estrai le prime 6 colonne della matrice\n",
    "- estrai le ultime 4 righe della matrice\n",
    "- estrai l'elemento in posizione (4,3)\n",
    "- modifica l'elemento (7,4) inserendo il numero 4\n"
   ]
  },
  {
   "cell_type": "code",
   "execution_count": null,
   "id": "834ef2f7",
   "metadata": {},
   "outputs": [],
   "source": []
  },
  {
   "cell_type": "markdown",
   "id": "52ef7b8d",
   "metadata": {},
   "source": [
    "# Elementi di Algebra delle matrici"
   ]
  },
  {
   "cell_type": "markdown",
   "id": "33e14bf8",
   "metadata": {},
   "source": [
    "Ricordiamo che per i vettori (array monodimensionali) sono definite le operazioni di somma, differenza e prodotto per scalare grazie agli operatori * e -"
   ]
  },
  {
   "cell_type": "code",
   "execution_count": 8,
   "id": "e8d90e61",
   "metadata": {},
   "outputs": [
    {
     "name": "stdout",
     "output_type": "stream",
     "text": [
      "[ 6  8 10 12]\n",
      "[2 4 6 8]\n"
     ]
    }
   ],
   "source": [
    "a = np.array([1,2,3,4])\n",
    "b = np.array([5,6,7,8])\n",
    "c = a + b\n",
    "d = 2*a\n",
    "print(c)\n",
    "print(d)"
   ]
  },
  {
   "cell_type": "markdown",
   "id": "66adaaa0",
   "metadata": {},
   "source": [
    "Vediamo ora per le matrici"
   ]
  },
  {
   "cell_type": "markdown",
   "id": "c30c8b58",
   "metadata": {},
   "source": [
    "L'operazione di somma tra matrici è definita come nella figura seguente\n",
    "Questo tipo di somma prende il nome di **element-wise**, cioè somma elemento per elemento\n",
    "<img src=\"fig/summatrix.gif\">\n"
   ]
  },
  {
   "cell_type": "code",
   "execution_count": 38,
   "id": "01a1bc42",
   "metadata": {},
   "outputs": [
    {
     "name": "stdout",
     "output_type": "stream",
     "text": [
      "[[ 2  5]\n",
      " [ 4 -2]\n",
      " [-1  7]]\n",
      "[[ 1 -1]\n",
      " [ 3  2]\n",
      " [ 2 -4]]\n",
      "[[3 4]\n",
      " [7 0]\n",
      " [1 3]]\n"
     ]
    }
   ],
   "source": [
    "# Utilizziamo + per la somma tra matrici\n",
    "\n",
    "A = np.array([[2, 5], [4, -2], [-1, 7]])\n",
    "B = np.array([[1, -1], [3, 2], [2, -4]])\n",
    "C = A + B      # element wise addition\n",
    "print(A)\n",
    "print(B)\n",
    "print(C)"
   ]
  },
  {
   "cell_type": "markdown",
   "id": "c11ef7c8",
   "metadata": {},
   "source": [
    "Vediamo ora il prodotto di una matrice per uno scalare.\n",
    "Ricordiamo che l'operazione è definita come\n",
    "\n",
    "<img src=\"fig/scalaxmatrix.png\">\n",
    "\n"
   ]
  },
  {
   "cell_type": "code",
   "execution_count": 4,
   "id": "88fc6b7c",
   "metadata": {},
   "outputs": [
    {
     "name": "stdout",
     "output_type": "stream",
     "text": [
      "[[  4   2]\n",
      " [-10   4]\n",
      " [-18  16]]\n"
     ]
    }
   ],
   "source": [
    "# Utilizziamo + per la somma tra matrici\n",
    "\n",
    "A = np.array([[2, 1], [-5, 2], [-9, 8]])\n",
    "C = 2*A      \n",
    "print(C)"
   ]
  },
  {
   "cell_type": "markdown",
   "id": "e0cf0bb6",
   "metadata": {},
   "source": [
    "# Prodotto scalare tra due vettori\n",
    "Ricordiamo che il prodotto scalare tra il $\\vec A$ e $\\vec B$ è definito come\n",
    "\n",
    "<img src=\"fig/scalar product.png\">\n",
    "\n"
   ]
  },
  {
   "cell_type": "markdown",
   "id": "aa114602",
   "metadata": {},
   "source": [
    "Vediamo come implementarlo in Python"
   ]
  },
  {
   "cell_type": "code",
   "execution_count": 12,
   "id": "18282018",
   "metadata": {},
   "outputs": [
    {
     "name": "stdout",
     "output_type": "stream",
     "text": [
      "10\n"
     ]
    }
   ],
   "source": [
    "a = np.array([1,1,1,1])\n",
    "b = np.array([1,2,3,4])\n",
    "c = np.dot(a,b)\n",
    "print (c)"
   ]
  },
  {
   "cell_type": "markdown",
   "id": "8cef44f2",
   "metadata": {},
   "source": [
    "# Ora prova tu\n",
    "- Fai la somma di due matrici (3,3) di numeri interi casuali\n",
    "- Moltiplica per 5 una matrice (5,3) di numeri interi casuali\n",
    "- Esegui la seguente operazioni X = 2 * A - 5 * B dove A è una matrice (5,3) contenente tutti 4 e B è una matrice (5,3) contenente tutti 2\n",
    "- Calcola il prodotto scalare tra $ \\vec x$ = (2,3,4) e $\\vec y$ = (-2,1,5)"
   ]
  },
  {
   "cell_type": "code",
   "execution_count": null,
   "id": "e364b209",
   "metadata": {},
   "outputs": [],
   "source": []
  },
  {
   "cell_type": "markdown",
   "id": "ae1cff7a",
   "metadata": {},
   "source": [
    "Vediamo il prodotto tra matrici. L'operazione è definita come nella figura seguente\n",
    "\n",
    "<img src=\"fig/prodottomat1.gif\">\n",
    "\n",
    "<img src=\"fig/prodottomat2.png\">\n",
    "\n",
    "Notiamo che per poter effettuare il prodotto è necessario che la prima matrice sia (n,l) e la seconda matrice sia (l,m). Il risultato è una matric (n,m)"
   ]
  },
  {
   "cell_type": "code",
   "execution_count": null,
   "id": "9c10f777",
   "metadata": {},
   "outputs": [],
   "source": []
  },
  {
   "cell_type": "code",
   "execution_count": 39,
   "id": "b807434d",
   "metadata": {},
   "outputs": [
    {
     "name": "stdout",
     "output_type": "stream",
     "text": [
      "[[1 2]\n",
      " [3 4]]\n",
      "[[5 6]\n",
      " [7 8]]\n",
      "[[19 22]\n",
      " [43 50]]\n"
     ]
    }
   ],
   "source": [
    "# Utilizziamo + per la somma tra matrici\n",
    "\n",
    "A = np.array([[1, 2], [3, 4]])\n",
    "B = np.array([[5, 6], [7, 8]])\n",
    "C = np.dot(A,B)      # element wise addition\n",
    "print(A)\n",
    "print(B)\n",
    "print(C)"
   ]
  },
  {
   "cell_type": "code",
   "execution_count": 40,
   "id": "fd09c3b2",
   "metadata": {},
   "outputs": [
    {
     "name": "stdout",
     "output_type": "stream",
     "text": [
      "[[1 2 3]\n",
      " [4 5 6]]\n",
      "[[1]\n",
      " [1]\n",
      " [1]]\n",
      "[[ 6]\n",
      " [15]]\n"
     ]
    }
   ],
   "source": [
    "A = np.array([[1, 2, 3], [4, 5, 6]])\n",
    "B = np.array([[1], [1], [1]])\n",
    "C = np.dot(A,B)     # element wise addition\n",
    "print(A)\n",
    "print(B)\n",
    "print(C)"
   ]
  },
  {
   "cell_type": "markdown",
   "id": "514da964",
   "metadata": {},
   "source": [
    "Vediamo ora il determinante di una matrice che è definito come \n",
    "\n",
    "<img src=\"fig/det2x2.png\">\n"
   ]
  },
  {
   "cell_type": "markdown",
   "id": "14d00b0b",
   "metadata": {},
   "source": [
    "Proviamo a calcolarlo in Python"
   ]
  },
  {
   "cell_type": "code",
   "execution_count": 30,
   "id": "198e11ee",
   "metadata": {},
   "outputs": [
    {
     "name": "stdout",
     "output_type": "stream",
     "text": [
      "[[-5  3]\n",
      " [-1  7]]\n",
      "-32.0\n"
     ]
    }
   ],
   "source": [
    "A = np.array([[-5, 3], [-1, 7]])\n",
    "det =  np.linalg.det(A)\n",
    "print(A)\n",
    "print (det)"
   ]
  },
  {
   "cell_type": "code",
   "execution_count": 32,
   "id": "980b1ba9",
   "metadata": {},
   "outputs": [
    {
     "name": "stdout",
     "output_type": "stream",
     "text": [
      "[[-5  3  2  7]\n",
      " [-1  7  4  5]\n",
      " [-3  0  5  4]\n",
      " [ 4  6  7 -3]]\n",
      "427.99999999999955\n"
     ]
    }
   ],
   "source": [
    "# vediamo per una matrice 4x4\n",
    "A = np.array([[-5, 3, 2, 7], [-1, 7, 4, 5], [-3, 0, 5, 4], [4, 6, 7, -3]])\n",
    "det =  np.linalg.det(A)\n",
    "print(A)\n",
    "print (det)"
   ]
  },
  {
   "cell_type": "markdown",
   "id": "66ff4d06",
   "metadata": {},
   "source": [
    "# Ora prova tu\n",
    "- Calcola la matrice C che è il prodotto tra la matrice A di dimensione (4,3) e la matrice B di dimensione (3,4). A e B sono due matrici di numeri interi casuali\n",
    "- Calcola il determinante della matrice C \n"
   ]
  },
  {
   "cell_type": "code",
   "execution_count": null,
   "id": "148a42f6",
   "metadata": {},
   "outputs": [],
   "source": []
  }
 ],
 "metadata": {
  "hide_input": false,
  "kernelspec": {
   "display_name": "Python 3 (ipykernel)",
   "language": "python",
   "name": "python3"
  },
  "language_info": {
   "codemirror_mode": {
    "name": "ipython",
    "version": 3
   },
   "file_extension": ".py",
   "mimetype": "text/x-python",
   "name": "python",
   "nbconvert_exporter": "python",
   "pygments_lexer": "ipython3",
   "version": "3.9.12"
  },
  "varInspector": {
   "cols": {
    "lenName": 16,
    "lenType": 16,
    "lenVar": 40
   },
   "kernels_config": {
    "python": {
     "delete_cmd_postfix": "",
     "delete_cmd_prefix": "del ",
     "library": "var_list.py",
     "varRefreshCmd": "print(var_dic_list())"
    },
    "r": {
     "delete_cmd_postfix": ") ",
     "delete_cmd_prefix": "rm(",
     "library": "var_list.r",
     "varRefreshCmd": "cat(var_dic_list()) "
    }
   },
   "types_to_exclude": [
    "module",
    "function",
    "builtin_function_or_method",
    "instance",
    "_Feature"
   ],
   "window_display": false
  }
 },
 "nbformat": 4,
 "nbformat_minor": 5
}
